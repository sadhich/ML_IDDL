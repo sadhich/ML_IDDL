{
 "cells": [
  {
   "cell_type": "raw",
   "metadata": {},
   "source": [
    "Importation de l'API de wikipedia pour afficher le sommaire d'un mot ou une chaine donnée.\n",
    "le choix de la langue française est paramétré via la fonction set_lang du composant importé (wikipedia)"
   ]
  },
  {
   "cell_type": "code",
   "execution_count": 37,
   "metadata": {
    "scrolled": true
   },
   "outputs": [
    {
     "name": "stdout",
     "output_type": "stream",
     "text": [
      "A recurrent neural network (RNN) is a class of artificial neural networks where connections between nodes form a directed graph along a temporal sequence. This allows it to exhibit temporal dynamic behavior. Derived from feedforward neural networks, RNNs can use their internal state (memory) to process variable length sequences of inputs. This makes them applicable to tasks such as unsegmented, connected handwriting recognition or speech recognition.The term “recurrent neural network” is used indiscriminately to refer to two broad classes of networks with a similar general structure, where one is finite impulse and the other is infinite impulse. Both classes of networks exhibit temporal dynamic behavior. A finite impulse recurrent network is a directed acyclic graph that can be unrolled and replaced with a strictly feedforward neural network, while an infinite impulse recurrent network is a directed cyclic graph that can not be unrolled.\n",
      "Both finite impulse and infinite impulse recurrent networks can have additional stored states, and the storage can be under direct control by the neural network. The storage can also be replaced by another network or graph, if that incorporates time delays or has feedback loops. Such controlled states are referred to as gated state or gated memory, and are part of long short-term memory networks (LSTMs) and gated recurrent units. This is also called Feedback Neural Network.\n",
      "\n",
      "\n"
     ]
    }
   ],
   "source": [
    "import wikipedia as wiki\n",
    "\n",
    "wiki.set_lang(\"en\")\n",
    "    \n",
    "rna = wiki.summary('rnn')\n",
    "print(rna)"
   ]
  },
  {
   "cell_type": "raw",
   "metadata": {},
   "source": [
    "- Importation de word_tokenize pour afficher les mots qui composent notre texte retourné par wikipedia.\n",
    "- Affichage d'un échantillonnage de 50 mots. "
   ]
  },
  {
   "cell_type": "code",
   "execution_count": 39,
   "metadata": {},
   "outputs": [
    {
     "name": "stdout",
     "output_type": "stream",
     "text": [
      "['A', 'recurrent', 'neural', 'network', '(', 'RNN', ')', 'is', 'a', 'class', 'of', 'artificial', 'neural', 'networks', 'where', 'connections', 'between', 'nodes', 'form', 'a', 'directed', 'graph', 'along', 'a', 'temporal', 'sequence', '.', 'This', 'allows', 'it', 'to', 'exhibit', 'temporal', 'dynamic', 'behavior', '.', 'Derived', 'from', 'feedforward', 'neural', 'networks', ',', 'RNNs', 'can', 'use', 'their', 'internal', 'state', '(', 'memory']\n"
     ]
    }
   ],
   "source": [
    "from nltk import word_tokenize\n",
    "rna_tok = word_tokenize(rna)\n",
    "rna_simple = rna_tok[0:50]\n",
    "print(rna_simple)"
   ]
  },
  {
   "cell_type": "raw",
   "metadata": {},
   "source": [
    "- Comparer les mots retournés avec les stopwords de la langue sélectionnée"
   ]
  },
  {
   "cell_type": "code",
   "execution_count": 40,
   "metadata": {
    "scrolled": true
   },
   "outputs": [
    {
     "name": "stdout",
     "output_type": "stream",
     "text": [
      "['A', 'recurrent', 'neural', 'network', '(', 'RNN', ')', 'is', 'a', 'class', 'of', 'artificial', 'neural', 'networks', 'where', 'connections', 'between', 'nodes', 'form', 'a', 'directed', 'graph', 'along', 'a', 'temporal', 'sequence', '.', 'This', 'allows', 'it', 'to', 'exhibit', 'temporal', 'dynamic', 'behavior', '.', 'Derived', 'from', 'feedforward', 'neural', 'networks', ',', 'RNNs', 'can', 'use', 'their', 'internal', 'state', '(', 'memory']\n"
     ]
    }
   ],
   "source": [
    "#nltk.download('stopwords')\n",
    "from nltk.corpus import stopwords\n",
    "#initialiser une liste vide de mots\n",
    "words_filtered = []\n",
    "#stocker les stopwords dans une liste\n",
    "stopWords = set(stopwords.words('french'))\n",
    "#comparaison des deux listes\n",
    "for i in range(0,len(rna_simple)):\n",
    "    if rna_simple[i] in stopWords:\n",
    "        pass\n",
    "    else:\n",
    "        words_filtered.append(rna_simple[i])\n",
    "print(words_filtered)"
   ]
  },
  {
   "cell_type": "raw",
   "metadata": {},
   "source": [
    "- Appliquer les pos_tag (pour Part Of Speech Tagging) sur la liste de mots retournés"
   ]
  },
  {
   "cell_type": "code",
   "execution_count": 41,
   "metadata": {},
   "outputs": [
    {
     "name": "stdout",
     "output_type": "stream",
     "text": [
      "[('A', 'DT'), ('recurrent', 'JJ'), ('neural', 'JJ'), ('network', 'NN'), ('(', '('), ('RNN', 'NNP'), (')', ')'), ('is', 'VBZ'), ('a', 'DT'), ('class', 'NN'), ('of', 'IN'), ('artificial', 'JJ'), ('neural', 'JJ'), ('networks', 'NNS'), ('where', 'WRB'), ('connections', 'NNS'), ('between', 'IN'), ('nodes', 'NNS'), ('form', 'VBP'), ('a', 'DT'), ('directed', 'JJ'), ('graph', 'NN'), ('along', 'IN'), ('a', 'DT'), ('temporal', 'JJ'), ('sequence', 'NN'), ('.', '.'), ('This', 'DT'), ('allows', 'VBZ'), ('it', 'PRP'), ('to', 'TO'), ('exhibit', 'VB'), ('temporal', 'JJ'), ('dynamic', 'JJ'), ('behavior', 'NN'), ('.', '.'), ('Derived', 'VBN'), ('from', 'IN'), ('feedforward', 'JJ'), ('neural', 'JJ'), ('networks', 'NNS'), (',', ','), ('RNNs', 'NNP'), ('can', 'MD'), ('use', 'VB'), ('their', 'PRP$'), ('internal', 'JJ'), ('state', 'NN'), ('(', '('), ('memory', 'NN')]\n"
     ]
    }
   ],
   "source": [
    "import nltk\n",
    "word_pos = nltk.pos_tag(words_filtered)\n",
    "print(word_pos)"
   ]
  },
  {
   "cell_type": "raw",
   "metadata": {},
   "source": [
    "- Afficher les signification des pos retournés"
   ]
  },
  {
   "cell_type": "code",
   "execution_count": 42,
   "metadata": {
    "scrolled": true
   },
   "outputs": [
    {
     "name": "stdout",
     "output_type": "stream",
     "text": [
      "NNS: noun, common, plural\n",
      "    undergraduates scotches bric-a-brac products bodyguards facets coasts\n",
      "    divestitures storehouses designs clubs fragrances averages\n",
      "    subjectivists apprehensions muses factory-jobs ...\n",
      "None\n"
     ]
    }
   ],
   "source": [
    "import nltk\n",
    "#nltk.download()\n",
    "print(nltk.help.upenn_tagset('NNS'))"
   ]
  },
  {
   "cell_type": "raw",
   "metadata": {},
   "source": [
    "- Afficher une définition et/ou un exemple pour les mots retourné par le POS"
   ]
  },
  {
   "cell_type": "code",
   "execution_count": 48,
   "metadata": {},
   "outputs": [
    {
     "name": "stdout",
     "output_type": "stream",
     "text": [
      "command with authority\n",
      "['He directed the children to do their homework']\n"
     ]
    }
   ],
   "source": [
    "import nltk\n",
    "#nltk.download('wordnet')\n",
    "from nltk.corpus import wordnet\n",
    "mot  = wordnet.synsets('directed')\n",
    "print(mot[0].definition())\n",
    "print(mot[0].examples())"
   ]
  }
 ],
 "metadata": {
  "kernelspec": {
   "display_name": "Python 3",
   "language": "python",
   "name": "python3"
  },
  "language_info": {
   "codemirror_mode": {
    "name": "ipython",
    "version": 3
   },
   "file_extension": ".py",
   "mimetype": "text/x-python",
   "name": "python",
   "nbconvert_exporter": "python",
   "pygments_lexer": "ipython3",
   "version": "3.7.6"
  }
 },
 "nbformat": 4,
 "nbformat_minor": 2
}
